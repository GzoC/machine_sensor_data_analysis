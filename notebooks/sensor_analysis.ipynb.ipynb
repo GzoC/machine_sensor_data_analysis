{
 "cells": [
  {
   "cell_type": "code",
   "execution_count": null,
   "id": "e921b3d2-a975-4ff9-9878-2873a7ce8858",
   "metadata": {},
   "outputs": [],
   "source": []
  }
 ],
 "metadata": {
  "kernelspec": {
   "display_name": "Python 3 (ipykernel)",
   "language": "python",
   "name": "python3"
  },
  "language_info": {
   "codemirror_mode": {
    "name": "ipython",
    "version": 3
   },
   "file_extension": ".py",
   "mimetype": "text/x-python",
   "name": "python",
   "nbconvert_exporter": "python",
   "pygments_lexer": "ipython3",
   "version": "3.12.7"
  }
 },
 "nbformat": 4,
 "nbformat_minor": 5
}

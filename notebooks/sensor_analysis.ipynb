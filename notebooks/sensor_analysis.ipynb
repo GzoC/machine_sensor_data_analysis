{
 "cells": [
  {
   "cell_type": "code",
   "execution_count": 1,
   "id": "e921b3d2-a975-4ff9-9878-2873a7ce8858",
   "metadata": {},
   "outputs": [
    {
     "name": "stdout",
     "output_type": "stream",
     "text": [
      "Librerías importadas correctamente.\n"
     ]
    }
   ],
   "source": [
    "# Celda 1\n",
    "\n",
    "# Línea 1: Importamos la librería Pandas para manipulación de datos\n",
    "import pandas as pd  # pd es el alias común para pandas\n",
    "\n",
    "# Línea 2: Importamos la librería NumPy (opcional, pero útil para ciertas operaciones numéricas)\n",
    "import numpy as np  # np es el alias común para numpy\n",
    "\n",
    "# Línea 3: Importamos la librería Matplotlib para visualización básica\n",
    "import matplotlib.pyplot as plt  # plt es el alias común para matplotlib\n",
    "\n",
    "# Línea 4: Importamos Seaborn para mejorar la apariencia de los gráficos\n",
    "import seaborn as sns  # sns es el alias común para seaborn\n",
    "\n",
    "# Línea 5: Esta línea permite que los gráficos se muestren dentro del Notebook\n",
    "%matplotlib inline  \n",
    "\n",
    "# Línea 6: Configuramos el estilo de los gráficos de Seaborn\n",
    "sns.set_style(\"whitegrid\")  \n",
    "\n",
    "print(\"Librerías importadas correctamente.\")\n"
   ]
  },
  {
   "cell_type": "code",
   "execution_count": 2,
   "id": "ed6036b1-ea2a-4d72-9ecf-9443e2689e71",
   "metadata": {},
   "outputs": [
    {
     "data": {
      "text/html": [
       "<div>\n",
       "<style scoped>\n",
       "    .dataframe tbody tr th:only-of-type {\n",
       "        vertical-align: middle;\n",
       "    }\n",
       "\n",
       "    .dataframe tbody tr th {\n",
       "        vertical-align: top;\n",
       "    }\n",
       "\n",
       "    .dataframe thead th {\n",
       "        text-align: right;\n",
       "    }\n",
       "</style>\n",
       "<table border=\"1\" class=\"dataframe\">\n",
       "  <thead>\n",
       "    <tr style=\"text-align: right;\">\n",
       "      <th></th>\n",
       "      <th>time_stamp</th>\n",
       "      <th>temperature</th>\n",
       "      <th>pressure</th>\n",
       "      <th>vibration</th>\n",
       "    </tr>\n",
       "  </thead>\n",
       "  <tbody>\n",
       "    <tr>\n",
       "      <th>0</th>\n",
       "      <td>2023-01-01 00:00:00</td>\n",
       "      <td>25.0</td>\n",
       "      <td>1010</td>\n",
       "      <td>0.50</td>\n",
       "    </tr>\n",
       "    <tr>\n",
       "      <th>1</th>\n",
       "      <td>2023-01-01 00:01:00</td>\n",
       "      <td>20.5</td>\n",
       "      <td>1002</td>\n",
       "      <td>0.01</td>\n",
       "    </tr>\n",
       "    <tr>\n",
       "      <th>2</th>\n",
       "      <td>2023-01-01 00:02:00</td>\n",
       "      <td>21.0</td>\n",
       "      <td>1004</td>\n",
       "      <td>0.02</td>\n",
       "    </tr>\n",
       "    <tr>\n",
       "      <th>3</th>\n",
       "      <td>2023-01-01 00:03:00</td>\n",
       "      <td>21.5</td>\n",
       "      <td>1006</td>\n",
       "      <td>0.03</td>\n",
       "    </tr>\n",
       "    <tr>\n",
       "      <th>4</th>\n",
       "      <td>2023-01-01 00:04:00</td>\n",
       "      <td>22.0</td>\n",
       "      <td>1008</td>\n",
       "      <td>0.04</td>\n",
       "    </tr>\n",
       "  </tbody>\n",
       "</table>\n",
       "</div>"
      ],
      "text/plain": [
       "            time_stamp  temperature  pressure  vibration\n",
       "0  2023-01-01 00:00:00         25.0      1010       0.50\n",
       "1  2023-01-01 00:01:00         20.5      1002       0.01\n",
       "2  2023-01-01 00:02:00         21.0      1004       0.02\n",
       "3  2023-01-01 00:03:00         21.5      1006       0.03\n",
       "4  2023-01-01 00:04:00         22.0      1008       0.04"
      ]
     },
     "execution_count": 2,
     "metadata": {},
     "output_type": "execute_result"
    }
   ],
   "source": [
    "# Celda 2\n",
    "\n",
    "# Línea 1: Definimos la ruta al archivo CSV que contiene los datos de sensores\n",
    "ruta_csv = r\"D:\\gzo\\myProjects\\dataAnalyst\\projects\\machine_sensor_data_analysis\\data\\sensor_data.csv\"  \n",
    "\n",
    "# Línea 2: Leemos el archivo CSV y lo cargamos en un DataFrame de pandas\n",
    "df = pd.read_csv(ruta_csv)  # pd.read_csv lee archivos CSV y los convierte en DataFrame\n",
    "\n",
    "# Línea 3: Mostramos las primeras 5 filas para verificar la estructura de los datos\n",
    "df.head()  # head() muestra por defecto las primeras 5 filas\n"
   ]
  }
 ],
 "metadata": {
  "kernelspec": {
   "display_name": "Python 3 (ipykernel)",
   "language": "python",
   "name": "python3"
  },
  "language_info": {
   "codemirror_mode": {
    "name": "ipython",
    "version": 3
   },
   "file_extension": ".py",
   "mimetype": "text/x-python",
   "name": "python",
   "nbconvert_exporter": "python",
   "pygments_lexer": "ipython3",
   "version": "3.12.7"
  }
 },
 "nbformat": 4,
 "nbformat_minor": 5
}

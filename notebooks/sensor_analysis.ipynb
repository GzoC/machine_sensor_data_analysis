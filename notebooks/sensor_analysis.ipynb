{
 "cells": [
  {
   "cell_type": "code",
   "execution_count": 1,
   "id": "e921b3d2-a975-4ff9-9878-2873a7ce8858",
   "metadata": {},
   "outputs": [
    {
     "name": "stdout",
     "output_type": "stream",
     "text": [
      "Librerías importadas correctamente.\n"
     ]
    }
   ],
   "source": [
    "# Celda 1\n",
    "\n",
    "# Línea 1: Importamos la librería Pandas para manipulación de datos\n",
    "import pandas as pd  # pd es el alias común para pandas\n",
    "\n",
    "# Línea 2: Importamos la librería NumPy (opcional, pero útil para ciertas operaciones numéricas)\n",
    "import numpy as np  # np es el alias común para numpy\n",
    "\n",
    "# Línea 3: Importamos la librería Matplotlib para visualización básica\n",
    "import matplotlib.pyplot as plt  # plt es el alias común para matplotlib\n",
    "\n",
    "# Línea 4: Importamos Seaborn para mejorar la apariencia de los gráficos\n",
    "import seaborn as sns  # sns es el alias común para seaborn\n",
    "\n",
    "# Línea 5: Esta línea permite que los gráficos se muestren dentro del Notebook\n",
    "%matplotlib inline  \n",
    "\n",
    "# Línea 6: Configuramos el estilo de los gráficos de Seaborn\n",
    "sns.set_style(\"whitegrid\")  \n",
    "\n",
    "print(\"Librerías importadas correctamente.\")\n"
   ]
  },
  {
   "cell_type": "code",
   "execution_count": null,
   "id": "ed6036b1-ea2a-4d72-9ecf-9443e2689e71",
   "metadata": {},
   "outputs": [],
   "source": []
  }
 ],
 "metadata": {
  "kernelspec": {
   "display_name": "Python 3 (ipykernel)",
   "language": "python",
   "name": "python3"
  },
  "language_info": {
   "codemirror_mode": {
    "name": "ipython",
    "version": 3
   },
   "file_extension": ".py",
   "mimetype": "text/x-python",
   "name": "python",
   "nbconvert_exporter": "python",
   "pygments_lexer": "ipython3",
   "version": "3.12.7"
  }
 },
 "nbformat": 4,
 "nbformat_minor": 5
}
